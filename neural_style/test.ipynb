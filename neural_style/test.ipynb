{
 "cells": [
  {
   "cell_type": "code",
   "execution_count": 1,
   "metadata": {},
   "outputs": [],
   "source": [
    "import math\n",
    "\n",
    "def to_e(x):\n",
    "    if x==0: return str(0)\n",
    "    basis = int(x/10**(int(math.log10(x))))\n",
    "    power = int(math.log10(x))\n",
    "    return str(basis)+\"e\"+str(power)"
   ]
  },
  {
   "cell_type": "code",
   "execution_count": 13,
   "metadata": {},
   "outputs": [
    {
     "name": "stdout",
     "output_type": "stream",
     "text": [
      "5e+10\n"
     ]
    }
   ],
   "source": [
    "x = 5e10\n",
    "\n",
    "print(\"{:.0e}\".format(x))"
   ]
  },
  {
   "cell_type": "code",
   "execution_count": 6,
   "metadata": {},
   "outputs": [],
   "source": [
    "def xxx():\n",
    "    for _ in range(20):\n",
    "        import variables\n",
    "        print(variables.a_s)"
   ]
  },
  {
   "cell_type": "code",
   "execution_count": 13,
   "metadata": {},
   "outputs": [
    {
     "name": "stdout",
     "output_type": "stream",
     "text": [
      "100.0\n"
     ]
    }
   ],
   "source": [
    "with open(\"variables.txt\",\"rb\") as f:\n",
    "    lines = f.readlines()\n",
    "print(float(lines[1].strip()))"
   ]
  },
  {
   "cell_type": "code",
   "execution_count": 15,
   "metadata": {},
   "outputs": [
    {
     "name": "stdout",
     "output_type": "stream",
     "text": [
      "f12, f24, f35, f46\n"
     ]
    }
   ],
   "source": [
    "features_y = [2,4,5,6]\n",
    "print(\"f1{}, f2{}, f3{}, f4{}\".format(*features_y))"
   ]
  },
  {
   "cell_type": "code",
   "execution_count": null,
   "metadata": {},
   "outputs": [],
   "source": []
  }
 ],
 "metadata": {
  "kernelspec": {
   "display_name": "Python 3.10.6 64-bit",
   "language": "python",
   "name": "python3"
  },
  "language_info": {
   "codemirror_mode": {
    "name": "ipython",
    "version": 3
   },
   "file_extension": ".py",
   "mimetype": "text/x-python",
   "name": "python",
   "nbconvert_exporter": "python",
   "pygments_lexer": "ipython3",
   "version": "3.10.6"
  },
  "orig_nbformat": 4,
  "vscode": {
   "interpreter": {
    "hash": "f844d2be2f5d9634b75a5a1c006752c2ef492e83fd3c796afe00c46304c311d6"
   }
  }
 },
 "nbformat": 4,
 "nbformat_minor": 2
}
